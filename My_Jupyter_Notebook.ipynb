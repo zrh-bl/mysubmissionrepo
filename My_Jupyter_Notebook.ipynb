{
 "cells": [
  {
   "cell_type": "markdown",
   "id": "833efdc0-4386-449f-a8b2-b680a6f7c60d",
   "metadata": {
    "tags": []
   },
   "source": [
    "<h1>My Jupyter Notebook on IBM Watson Studio</h1>"
   ]
  },
  {
   "cell_type": "markdown",
   "id": "09b96fe4-c677-454f-8835-a529b13bbbd9",
   "metadata": {
    "tags": []
   },
   "source": [
    "<p><strong>Bjorn Lindell</strong></p><p>IT Business Analyst</p>"
   ]
  },
  {
   "cell_type": "markdown",
   "id": "1014bc15-dc3b-4004-b830-1724a013ce64",
   "metadata": {},
   "source": [
    "<i>I am interested in data science because I am curious to find the hidden insights.</i>"
   ]
  },
  {
   "cell_type": "markdown",
   "id": "4a68c74d-f7a6-4cb0-98ee-684bed18c256",
   "metadata": {},
   "source": [
    "<h3>The code prints the value of the mathematical constant PI.</h3>"
   ]
  },
  {
   "cell_type": "code",
   "execution_count": 8,
   "id": "f76d39bb-0e4b-422a-b4ff-fcfc1eee8cfe",
   "metadata": {},
   "outputs": [
    {
     "name": "stdout",
     "output_type": "stream",
     "text": [
      "3.141592653589793\n"
     ]
    }
   ],
   "source": [
    "# Import math Lib\n",
    "import math\n",
    "# Print the value of pi\n",
    "print(math.pi)"
   ]
  },
  {
   "cell_type": "markdown",
   "id": "284544ed-bdeb-4538-8f05-4f4e3d6fd61e",
   "metadata": {},
   "source": [
    "<ul>\n",
    "  <li>One</li>\n",
    "  <li>Two</li>\n",
    "  <li>Three</li>\n",
    "</ul>\n",
    "<p>\n",
    "<table>\n",
    "  <tr>\n",
    "    <th>One</th>\n",
    "    <th>Two</th>\n",
    "    <th>Three</th>  \n",
    "  </tr>\n",
    "  <tr>\n",
    "    <td>1</td>\n",
    "    <td>2</td>\n",
    "    <td>3</td>\n",
    "  </tr>\n",
    "  <tr>\n",
    "      <td><i>Four</i></td>\n",
    "      <td><strong>Five</strong></td>\n",
    "      <td><s>Six</s></td>  \n",
    "  </tr>\n",
    "</table>\n",
    "<p>\n",
    "<a href=\"https://ibm.com/\">IBM.com</a>"
   ]
  }
 ],
 "metadata": {
  "kernelspec": {
   "display_name": "Python",
   "language": "python",
   "name": "conda-env-python-py"
  },
  "language_info": {
   "codemirror_mode": {
    "name": "ipython",
    "version": 3
   },
   "file_extension": ".py",
   "mimetype": "text/x-python",
   "name": "python",
   "nbconvert_exporter": "python",
   "pygments_lexer": "ipython3",
   "version": "3.7.12"
  }
 },
 "nbformat": 4,
 "nbformat_minor": 5
}
